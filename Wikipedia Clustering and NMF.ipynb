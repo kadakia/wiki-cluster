{
 "cells": [
  {
   "cell_type": "markdown",
   "metadata": {},
   "source": [
    "# Clustering"
   ]
  },
  {
   "cell_type": "code",
   "execution_count": 2,
   "metadata": {
    "collapsed": true
   },
   "outputs": [],
   "source": [
    "# Perform the necessary imports\n",
    "from sklearn.decomposition import TruncatedSVD\n",
    "from sklearn.cluster import KMeans\n",
    "from sklearn.pipeline import make_pipeline\n",
    "\n",
    "# Create a TruncatedSVD instance.  Why n_components = 50?\n",
    "svd = TruncatedSVD(n_components = 50)\n",
    "\n",
    "# Create a KMeans instance.  Knew to use n_clusters = 6.\n",
    "kmeans = KMeans(n_clusters = 6)\n",
    "\n",
    "# Create a pipeline\n",
    "pipeline = make_pipeline(svd,kmeans)"
   ]
  },
  {
   "cell_type": "code",
   "execution_count": 3,
   "metadata": {},
   "outputs": [
    {
     "name": "stdout",
     "output_type": "stream",
     "text": [
      "   HTTP 404  Alexa Internet  Internet Explorer  HTTP cookie  Google Search  \\\n",
      "0       0.0        0.000000                0.0          0.0            0.0   \n",
      "1       0.0        0.000000                0.0          0.0            0.0   \n",
      "2       0.0        0.029607                0.0          0.0            0.0   \n",
      "3       0.0        0.000000                0.0          0.0            0.0   \n",
      "4       0.0        0.000000                0.0          0.0            0.0   \n",
      "\n",
      "   Tumblr  Hypertext Transfer Protocol  Social search  Firefox  LinkedIn  \\\n",
      "0     0.0                          0.0            0.0      0.0       0.0   \n",
      "1     0.0                          0.0            0.0      0.0       0.0   \n",
      "2     0.0                          0.0            0.0      0.0       0.0   \n",
      "3     0.0                          0.0            0.0      0.0       0.0   \n",
      "4     0.0                          0.0            0.0      0.0       0.0   \n",
      "\n",
      "      ...       Chad Kroeger  Nate Ruess  The Wanted  Stevie Nicks  \\\n",
      "0     ...                0.0         0.0         0.0      0.008878   \n",
      "1     ...                0.0         0.0         0.0      0.000000   \n",
      "2     ...                0.0         0.0         0.0      0.000000   \n",
      "3     ...                0.0         0.0         0.0      0.000000   \n",
      "4     ...                0.0         0.0         0.0      0.000000   \n",
      "\n",
      "   Arctic Monkeys  Black Sabbath  Skrillex  Red Hot Chili Peppers   Sepsis  \\\n",
      "0             0.0            0.0  0.049502               0.000000  0.00000   \n",
      "1             0.0            0.0  0.000000               0.000000  0.00611   \n",
      "2             0.0            0.0  0.000000               0.000000  0.00000   \n",
      "3             0.0            0.0  0.000000               0.005646  0.00000   \n",
      "4             0.0            0.0  0.000000               0.000000  0.00000   \n",
      "\n",
      "   Adam Levine  \n",
      "0          0.0  \n",
      "1          0.0  \n",
      "2          0.0  \n",
      "3          0.0  \n",
      "4          0.0  \n",
      "\n",
      "[5 rows x 60 columns]\n"
     ]
    }
   ],
   "source": [
    "import pandas as pd\n",
    "\n",
    "wiki_untransposed = pd.read_csv('wikipedia-vectors.csv', index_col = 0)\n",
    "\n",
    "print(wiki_untransposed.head())"
   ]
  },
  {
   "cell_type": "code",
   "execution_count": 4,
   "metadata": {},
   "outputs": [
    {
     "name": "stdout",
     "output_type": "stream",
     "text": [
      "<class 'pandas.core.frame.DataFrame'>\n",
      "Index: 60 entries, HTTP 404 to Adam Levine\n",
      "Columns: 13125 entries, 0 to 13124\n",
      "dtypes: float64(13125)\n",
      "memory usage: 6.0+ MB\n",
      "None\n",
      "                   0      1         2      3      4      5      6      \\\n",
      "HTTP 404             0.0    0.0  0.000000    0.0    0.0    0.0    0.0   \n",
      "Alexa Internet       0.0    0.0  0.029607    0.0    0.0    0.0    0.0   \n",
      "Internet Explorer    0.0    0.0  0.000000    0.0    0.0    0.0    0.0   \n",
      "HTTP cookie          0.0    0.0  0.000000    0.0    0.0    0.0    0.0   \n",
      "Google Search        0.0    0.0  0.000000    0.0    0.0    0.0    0.0   \n",
      "\n",
      "                      7      8      9      ...    13115  13116  13117  13118  \\\n",
      "HTTP 404           0.000000    0.0    0.0  ...      0.0    0.0    0.0    0.0   \n",
      "Alexa Internet     0.000000    0.0    0.0  ...      0.0    0.0    0.0    0.0   \n",
      "Internet Explorer  0.003772    0.0    0.0  ...      0.0    0.0    0.0    0.0   \n",
      "HTTP cookie        0.000000    0.0    0.0  ...      0.0    0.0    0.0    0.0   \n",
      "Google Search      0.000000    0.0    0.0  ...      0.0    0.0    0.0    0.0   \n",
      "\n",
      "                   13119  13120  13121     13122     13123  13124  \n",
      "HTTP 404             0.0    0.0    0.0  0.000000  0.000000    0.0  \n",
      "Alexa Internet       0.0    0.0    0.0  0.000000  0.000000    0.0  \n",
      "Internet Explorer    0.0    0.0    0.0  0.011594  0.000000    0.0  \n",
      "HTTP cookie          0.0    0.0    0.0  0.000000  0.000000    0.0  \n",
      "Google Search        0.0    0.0    0.0  0.000000  0.006649    0.0  \n",
      "\n",
      "[5 rows x 13125 columns]\n"
     ]
    }
   ],
   "source": [
    "wiki = wiki_untransposed.transpose()\n",
    "\n",
    "print(wiki.info())\n",
    "print(wiki.head())"
   ]
  },
  {
   "cell_type": "code",
   "execution_count": 5,
   "metadata": {},
   "outputs": [
    {
     "name": "stdout",
     "output_type": "stream",
     "text": [
      "<class 'scipy.sparse.csr.csr_matrix'>\n",
      "[[ 0.          0.          0.         ...,  0.          0.          0.        ]\n",
      " [ 0.          0.          0.02960744 ...,  0.          0.          0.        ]\n",
      " [ 0.          0.          0.         ...,  0.01159441  0.          0.        ]\n",
      " ..., \n",
      " [ 0.          0.          0.         ...,  0.          0.          0.        ]\n",
      " [ 0.          0.00610985  0.         ...,  0.          0.00547551  0.        ]\n",
      " [ 0.          0.          0.         ...,  0.          0.          0.        ]]\n"
     ]
    }
   ],
   "source": [
    "import scipy\n",
    "\n",
    "wiki_csr = scipy.sparse.csr_matrix(wiki.values)\n",
    "\n",
    "print(type(wiki_csr))\n",
    "print(wiki_csr.toarray())"
   ]
  },
  {
   "cell_type": "code",
   "execution_count": 6,
   "metadata": {},
   "outputs": [
    {
     "name": "stdout",
     "output_type": "stream",
     "text": [
      "['HTTP 404', 'Alexa Internet', 'Internet Explorer', 'HTTP cookie', 'Google Search', 'Tumblr', 'Hypertext Transfer Protocol', 'Social search', 'Firefox', 'LinkedIn', 'Global warming', 'Nationally Appropriate Mitigation Action', 'Nigel Lawson', 'Connie Hedegaard', 'Climate change', 'Kyoto Protocol', '350.org', 'Greenhouse gas emissions by the United States', '2010 United Nations Climate Change Conference', '2007 United Nations Climate Change Conference', 'Angelina Jolie', 'Michael Fassbender', 'Denzel Washington', 'Catherine Zeta-Jones', 'Jessica Biel', 'Russell Crowe', 'Mila Kunis', 'Dakota Fanning', 'Anne Hathaway', 'Jennifer Aniston', 'France national football team', 'Cristiano Ronaldo', 'Arsenal F.C.', 'Radamel Falcao', 'Zlatan Ibrahimović', 'Colombia national football team', '2014 FIFA World Cup qualification', 'Football', 'Neymar', 'Franck Ribéry', 'Tonsillitis', 'Hepatitis B', 'Doxycycline', 'Leukemia', 'Gout', 'Hepatitis C', 'Prednisone', 'Fever', 'Gabapentin', 'Lymphoma', 'Chad Kroeger', 'Nate Ruess', 'The Wanted', 'Stevie Nicks', 'Arctic Monkeys', 'Black Sabbath', 'Skrillex', 'Red Hot Chili Peppers', 'Sepsis', 'Adam Levine']\n"
     ]
    }
   ],
   "source": [
    "titles = wiki.index.tolist()\n",
    "\n",
    "print(titles)"
   ]
  },
  {
   "cell_type": "code",
   "execution_count": 7,
   "metadata": {},
   "outputs": [
    {
     "name": "stdout",
     "output_type": "stream",
     "text": [
      "                                          article  label\n",
      "40                                    Tonsillitis      0\n",
      "48                                     Gabapentin      0\n",
      "47                                          Fever      0\n",
      "46                                     Prednisone      0\n",
      "45                                    Hepatitis C      0\n",
      "44                                           Gout      0\n",
      "43                                       Leukemia      0\n",
      "42                                    Doxycycline      0\n",
      "41                                    Hepatitis B      0\n",
      "49                                       Lymphoma      0\n",
      "39                                  Franck Ribéry      1\n",
      "31                              Cristiano Ronaldo      1\n",
      "32                                   Arsenal F.C.      1\n",
      "33                                 Radamel Falcao      1\n",
      "34                             Zlatan Ibrahimović      1\n",
      "35                Colombia national football team      1\n",
      "36              2014 FIFA World Cup qualification      1\n",
      "37                                       Football      1\n",
      "30                  France national football team      1\n",
      "38                                         Neymar      1\n",
      "0                                        HTTP 404      2\n",
      "8                                         Firefox      2\n",
      "1                                  Alexa Internet      2\n",
      "2                               Internet Explorer      2\n",
      "3                                     HTTP cookie      2\n",
      "4                                   Google Search      2\n",
      "5                                          Tumblr      2\n",
      "6                     Hypertext Transfer Protocol      2\n",
      "7                                   Social search      2\n",
      "9                                        LinkedIn      2\n",
      "17  Greenhouse gas emissions by the United States      3\n",
      "10                                 Global warming      3\n",
      "11       Nationally Appropriate Mitigation Action      3\n",
      "12                                   Nigel Lawson      3\n",
      "13                               Connie Hedegaard      3\n",
      "14                                 Climate change      3\n",
      "15                                 Kyoto Protocol      3\n",
      "16                                        350.org      3\n",
      "18  2010 United Nations Climate Change Conference      3\n",
      "19  2007 United Nations Climate Change Conference      3\n",
      "29                               Jennifer Aniston      4\n",
      "28                                  Anne Hathaway      4\n",
      "27                                 Dakota Fanning      4\n",
      "26                                     Mila Kunis      4\n",
      "25                                  Russell Crowe      4\n",
      "24                                   Jessica Biel      4\n",
      "23                           Catherine Zeta-Jones      4\n",
      "22                              Denzel Washington      4\n",
      "21                             Michael Fassbender      4\n",
      "20                                 Angelina Jolie      4\n",
      "57                          Red Hot Chili Peppers      5\n",
      "56                                       Skrillex      5\n",
      "55                                  Black Sabbath      5\n",
      "54                                 Arctic Monkeys      5\n",
      "50                                   Chad Kroeger      5\n",
      "52                                     The Wanted      5\n",
      "51                                     Nate Ruess      5\n",
      "58                                         Sepsis      5\n",
      "53                                   Stevie Nicks      5\n",
      "59                                    Adam Levine      5\n"
     ]
    }
   ],
   "source": [
    "# Fit the pipeline to articles\n",
    "pipeline.fit(wiki_csr)\n",
    "\n",
    "# Calculate the cluster labels\n",
    "labels = pipeline.predict(wiki_csr)\n",
    "\n",
    "# Create a DataFrame aligning labels and titles\n",
    "clusters = pd.DataFrame({'label': labels, 'article': titles})\n",
    "\n",
    "# Display df sorted by cluster label\n",
    "print(clusters.sort_values('label'))"
   ]
  },
  {
   "cell_type": "markdown",
   "metadata": {},
   "source": [
    "# NMF"
   ]
  },
  {
   "cell_type": "code",
   "execution_count": 14,
   "metadata": {},
   "outputs": [
    {
     "name": "stdout",
     "output_type": "stream",
     "text": [
      "                          0    1    2    3    4         5\n",
      "HTTP 404           0.000000  0.0  0.0  0.0  0.0  0.440461\n",
      "Alexa Internet     0.000000  0.0  0.0  0.0  0.0  0.566607\n",
      "Internet Explorer  0.003821  0.0  0.0  0.0  0.0  0.398641\n",
      "HTTP cookie        0.000000  0.0  0.0  0.0  0.0  0.381734\n",
      "Google Search      0.000000  0.0  0.0  0.0  0.0  0.485525\n"
     ]
    }
   ],
   "source": [
    "# Import NMF\n",
    "from sklearn.decomposition import NMF\n",
    "\n",
    "# Create an NMF instance.  n_components = n_clusters = number of topics.\n",
    "model = NMF(n_components = 6)\n",
    "\n",
    "# Fit the model to articles\n",
    "nmf_features = model.fit_transform(wiki_csr)\n",
    "\n",
    "non_norm_df = pd.DataFrame(nmf_features,index = titles)\n",
    "print(non_norm_df.head())"
   ]
  },
  {
   "cell_type": "code",
   "execution_count": 15,
   "metadata": {},
   "outputs": [
    {
     "name": "stdout",
     "output_type": "stream",
     "text": [
      "                          0    1    2    3    4         5\n",
      "HTTP 404           0.000000  0.0  0.0  0.0  0.0  1.000000\n",
      "Alexa Internet     0.000000  0.0  0.0  0.0  0.0  1.000000\n",
      "Internet Explorer  0.009585  0.0  0.0  0.0  0.0  0.999954\n",
      "HTTP cookie        0.000000  0.0  0.0  0.0  0.0  1.000000\n",
      "Google Search      0.000000  0.0  0.0  0.0  0.0  1.000000\n",
      "Cristiano Ronaldo                    1.000000\n",
      "Franck Ribéry                        0.999972\n",
      "Radamel Falcao                       0.999942\n",
      "Zlatan Ibrahimović                   0.999942\n",
      "France national football team        0.999923\n",
      "Colombia national football team      0.999897\n",
      "Neymar                               0.999022\n",
      "2014 FIFA World Cup qualification    0.998443\n",
      "Arsenal F.C.                         0.997741\n",
      "Football                             0.974936\n",
      "Russell Crowe                        0.223845\n",
      "dtype: float64\n"
     ]
    }
   ],
   "source": [
    "# Must normalize the vectors/rows in the (reduced) 6-dimensional space\n",
    "from sklearn.preprocessing import normalize\n",
    "\n",
    "# Normalize the NMF features\n",
    "norm_features = normalize(nmf_features)\n",
    "\n",
    "# Create a DataFrame\n",
    "df = pd.DataFrame(norm_features,index = titles)\n",
    "print(df.head())\n",
    "\n",
    "# Select the row corresponding to 'Cristiano Ronaldo'\n",
    "ronaldo = df.loc['Cristiano Ronaldo']\n",
    "\n",
    "# Compute the dot products\n",
    "similarities = df.dot(ronaldo)\n",
    "\n",
    "# Display those with the largest cosine similarity\n",
    "print(similarities.nlargest(11))"
   ]
  },
  {
   "cell_type": "raw",
   "metadata": {},
   "source": [
    "Notice the big drop off in similarity with Russell Crowe!"
   ]
  },
  {
   "cell_type": "code",
   "execution_count": 18,
   "metadata": {},
   "outputs": [],
   "source": [
    "import matplotlib.pyplot as plt"
   ]
  },
  {
   "cell_type": "code",
   "execution_count": 20,
   "metadata": {},
   "outputs": [
    {
     "data": {
      "image/png": "[encoded data removed]",
      "text/plain": [
       "<matplotlib.figure.Figure at 0x1a2135c978>"
      ]
     },
     "metadata": {},
     "output_type": "display_data"
    }
   ],
   "source": [
    "# Reduction from 13,125 words to 2D plot\n",
    "# Import TSNE\n",
    "from sklearn.manifold import TSNE\n",
    "\n",
    "# Create a TSNE instance\n",
    "model = TSNE(learning_rate = 50)\n",
    "\n",
    "# Apply fit_transform\n",
    "tsne_features = model.fit_transform(wiki.values)\n",
    "\n",
    "# Select the 0th feature\n",
    "xs = tsne_features[:,0]\n",
    "\n",
    "# Select the 1st feature\n",
    "ys = tsne_features[:,1]\n",
    "\n",
    "# Scatter plot, coloring by variety_numbers\n",
    "plt.scatter(xs,ys)\n",
    "plt.show()"
   ]
  },
  {
   "cell_type": "raw",
   "metadata": {},
   "source": [
    "Indeed there appear to be 6 distinct clusters."
   ]
  },
  {
   "cell_type": "code",
   "execution_count": 21,
   "metadata": {},
   "outputs": [
    {
     "data": {
      "image/png": "[encoded data removed]",
      "text/plain": [
       "<matplotlib.figure.Figure at 0x1a2138b128>"
      ]
     },
     "metadata": {},
     "output_type": "display_data"
    }
   ],
   "source": [
    "ks = range(3, 9)\n",
    "inertias = []\n",
    "\n",
    "for k in ks:\n",
    "    # Create a KMeans instance with k clusters\n",
    "    model = KMeans(n_clusters = k)\n",
    "    \n",
    "    # Fit model to samples\n",
    "    model.fit(wiki.values)\n",
    "    \n",
    "    # Append the inertia to the list of inertias\n",
    "    inertias.append(model.inertia_)\n",
    "    \n",
    "# Plot ks vs inertias\n",
    "plt.plot(ks, inertias, '-o')\n",
    "plt.xlabel('number of clusters')\n",
    "plt.ylabel('inertia')\n",
    "plt.xticks(ks)\n",
    "plt.show()"
   ]
  }
 ],
 "metadata": {
  "kernelspec": {
   "display_name": "Python 3",
   "language": "python",
   "name": "python3"
  },
  "language_info": {
   "codemirror_mode": {
    "name": "ipython",
    "version": 3
   },
   "file_extension": ".py",
   "mimetype": "text/x-python",
   "name": "python",
   "nbconvert_exporter": "python",
   "pygments_lexer": "ipython3",
   "version": "3.6.3"
  }
 },
 "nbformat": 4,
 "nbformat_minor": 2
}
